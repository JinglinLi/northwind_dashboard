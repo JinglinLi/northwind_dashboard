{
 "cells": [
  {
   "cell_type": "code",
   "execution_count": null,
   "source": [
    "# There are 11 csv files in ./data folder.\n",
    "# This script is used to generate a list of strings len(list) = 11,\n",
    "# and each string contains the name of the csv and the column_names of the csv. \n",
    "# This can simplify writing creating table in northwind_create_database.sql."
   ],
   "outputs": [],
   "metadata": {}
  },
  {
   "cell_type": "code",
   "execution_count": 1,
   "source": [
    "import glob\n",
    "import pandas as pd"
   ],
   "outputs": [],
   "metadata": {}
  },
  {
   "cell_type": "code",
   "execution_count": 2,
   "source": [
    "# csvs\n",
    "csvs = glob.glob('./data/*.csv')\n",
    "str_list = []\n",
    "for i in range(len(csvs)): \n",
    "    df = pd.read_csv(csvs[i])\n",
    "    cs = df.columns\n",
    "    f_str = csvs[i][7:-4] # string for csv name\n",
    "    c_str = ','.join(list(df.columns))\n",
    "    str_list += [f_str + ', ' + c_str]\n",
    "str_list"
   ],
   "outputs": [
    {
     "output_type": "execute_result",
     "data": {
      "text/plain": [
       "['customers, customerID,companyName,contactName,contactTitle,address,city,region,postalCode,country,phone,fax',\n",
       " 'categories, categoryID,categoryName,description,picture',\n",
       " 'regions, regionID,regionDescription',\n",
       " 'products, productID,productName,supplierID,categoryID,quantityPerUnit,unitPrice,unitsInStock,unitsOnOrder,reorderLevel,discontinued',\n",
       " 'employee_territories, employeeID,territoryID',\n",
       " 'orders, orderID,customerID,employeeID,orderDate,requiredDate,shippedDate,shipVia,freight,shipName,shipAddress,shipCity,shipRegion,shipPostalCode,shipCountry',\n",
       " 'suppliers, supplierID,companyName,contactName,contactTitle,address,city,region,postalCode,country,phone,fax,homePage',\n",
       " 'shippers, shipperID,companyName,phone',\n",
       " 'territories, territoryID,territoryDescription,regionID',\n",
       " 'employees, employeeID,lastName,firstName,title,titleOfCourtesy,birthDate,hireDate,address,city,region,postalCode,country,homePhone,extension,photo,notes,reportsTo,photoPath',\n",
       " 'order_details, orderID,productID,unitPrice,quantity,discount']"
      ]
     },
     "metadata": {},
     "execution_count": 2
    }
   ],
   "metadata": {}
  },
  {
   "cell_type": "code",
   "execution_count": 3,
   "source": [
    "len(str_list)"
   ],
   "outputs": [
    {
     "output_type": "execute_result",
     "data": {
      "text/plain": [
       "11"
      ]
     },
     "metadata": {},
     "execution_count": 3
    }
   ],
   "metadata": {}
  }
 ],
 "metadata": {
  "orig_nbformat": 4,
  "language_info": {
   "name": "python",
   "version": "3.8.8",
   "mimetype": "text/x-python",
   "codemirror_mode": {
    "name": "ipython",
    "version": 3
   },
   "pygments_lexer": "ipython3",
   "nbconvert_exporter": "python",
   "file_extension": ".py"
  },
  "kernelspec": {
   "name": "python3",
   "display_name": "Python 3.8.8 64-bit (conda)"
  },
  "interpreter": {
   "hash": "e693f81ce65b2d86a8ccaa4486a6c3213eba987e9092bbfb488d6be295156d0f"
  }
 },
 "nbformat": 4,
 "nbformat_minor": 2
}