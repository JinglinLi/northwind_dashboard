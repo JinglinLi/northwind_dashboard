{
 "cells": [
  {
   "cell_type": "markdown",
   "source": [
    "## Goal : \n",
    "### 1) put northwind postgresql database on AWS cloud database RDS\n",
    "### 2) run metabase on AWS EC2 instance\n",
    "### 3) use metabase on AWS EC2 instance to generate dashboard using northwind postgresql database on AWS RDS\n",
    "\n",
    "\n",
    "## RDS : put nothwind postgresql database from local machine to AWS RDS \n",
    "### Connect : \n",
    "- endpoint/host : `jjx.czpvkrixkgxg.eu-central-1.rds.amazonaws.com`\n",
    "- username : postgres\n",
    "- port : 5432\n",
    "- database : northwind\n",
    "- connect : `psql -h jjx.czpvkrixkgxg.eu-central-1.rds.amazonaws.com -U postgres -d postgres -p 5432`\n",
    "\n",
    "### Create database northwind on RDS :\n",
    "- on RDS postgresql : CREATE DATABASE northwind; \n",
    "\n",
    "### Upload :\n",
    "- dump database to .sql on local machine :\n",
    "    - `pg_dump --no-owner northwind_join > northwind_jinglin.sql`\n",
    "- upload :\n",
    "    - `psql -f northwind_jinglin.sql -h jjx.czpvkrixkgxg.eu-central-1.rds.amazonaws.com -U postgres -p 5432 -d northwind`\n",
    "- re-access RDS, check the databases and tables\n",
    "\n",
    "\n",
    "## EC2 : install and run metabase on EC2\n",
    "### modify paired-key file permission to meet the requirement of AWS :\n",
    "- `chmod 400 ec2_key.pem`\n",
    "### Connect to EC2 :\n",
    "- `ssh -i ec2_key.pem ubuntu@ec2-18-195-204-241.eu-central-1.compute.amazonaws.com`\n",
    "### Copy metabse.jar from local to AWS EC2 :\n",
    "- `scp -i ec2_key.pem metabase.jar ubuntu@ec2-18-195-204-241.eu-central-1.compute.amazonaws.com:.`\n",
    "### Installation on EC2 :\n",
    "- connect : `ssh -i ec2_key.pem ubuntu@ec2-18-195-204-241.eu-central-1.compute.amazonaws.com`\n",
    "- update : `sudo apt-get update -y`\n",
    "- upgrade : `sudo apt-get upgrade -y`\n",
    "- install java : `sudo apt-get install -y openjdk-11-jre-headless`\n",
    "- run metabse in the background :`sudo nohup java -jar -DMB_JETTY_PORT=80 metabase.jar &`\n",
    "\n",
    "\n",
    "## EC2 - RDS : connect RDS with EC2\n",
    "- put `ec2-18-195-204-241.eu-central-1.compute.amazonaws.com` in browser adress field\n",
    "- input databse information to connect to RDS \n"
   ],
   "metadata": {}
  },
  {
   "cell_type": "markdown",
   "source": [],
   "metadata": {}
  }
 ],
 "metadata": {
  "orig_nbformat": 4,
  "language_info": {
   "name": "python"
  }
 },
 "nbformat": 4,
 "nbformat_minor": 2
}